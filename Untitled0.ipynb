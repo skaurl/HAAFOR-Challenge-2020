{
  "nbformat": 4,
  "nbformat_minor": 0,
  "metadata": {
    "colab": {
      "name": "Untitled0.ipynb",
      "provenance": [],
      "collapsed_sections": [],
      "authorship_tag": "ABX9TyM8hQqltul4Im5SQtFzPALp",
      "include_colab_link": true
    },
    "kernelspec": {
      "name": "python3",
      "display_name": "Python 3"
    }
  },
  "cells": [
    {
      "cell_type": "markdown",
      "metadata": {
        "id": "view-in-github",
        "colab_type": "text"
      },
      "source": [
        "<a href=\"https://colab.research.google.com/github/skaurl/HAAFOR-Challenge-2020/blob/master/Untitled0.ipynb\" target=\"_parent\"><img src=\"https://colab.research.google.com/assets/colab-badge.svg\" alt=\"Open In Colab\"/></a>"
      ]
    },
    {
      "cell_type": "code",
      "metadata": {
        "id": "ZQwVZNuyeIFx",
        "colab_type": "code",
        "colab": {}
      },
      "source": [
        "from google.colab import drive\n",
        "drive.mount('/gdrive')"
      ],
      "execution_count": null,
      "outputs": []
    },
    {
      "cell_type": "code",
      "metadata": {
        "id": "4aJpQZYmeXlN",
        "colab_type": "code",
        "colab": {}
      },
      "source": [
        "import pandas as pd\n",
        "import matplotlib.pyplot as plt\n",
        "import seaborn as sns\n",
        "\n",
        "df = pd.read_csv('/gdrive/My Drive/한양대학교/HAAFOR Challenge 2020/training.csv', encoding='cp949')\n",
        "\n",
        "print(df.dtypes)\n",
        "\n",
        "print('개수 :', len(df))\n",
        "print('최대 길이 :', max(len(l) for l in df['BEFORE_BODY']))\n",
        "print('평균 길이 :', round(sum(map(len, df['BEFORE_BODY'])) / len(df['BEFORE_BODY'])))\n",
        "\n",
        "plt.hist([len(s) for s in df['BEFORE_BODY']], bins=20)\n",
        "plt.xlim(0,1500)\n",
        "plt.xlabel('length of Data')\n",
        "plt.ylabel('number of Data')\n",
        "plt.show()\n",
        "\n",
        "sns.kdeplot([len(s) for s in df['BEFORE_BODY']], shade=True)\n",
        "plt.title('Kernel Density Estimation')\n",
        "plt.show()\n",
        "\n",
        "print('개수 :', len(df))\n",
        "print('최대 길이 :', max(len(l) for l in df['AFTER_BODY']))\n",
        "print('평균 길이 :', round(sum(map(len, df['AFTER_BODY'])) / len(df['AFTER_BODY'])))\n",
        "\n",
        "plt.hist([len(s) for s in df['AFTER_BODY']], bins=20)\n",
        "plt.xlim(0,1500)\n",
        "plt.xlabel('length of Data')\n",
        "plt.ylabel('number of Data')\n",
        "plt.show()\n",
        "\n",
        "sns.kdeplot([len(s) for s in df['AFTER_BODY']], shade=True)\n",
        "plt.title('Kernel Density Estimation')\n",
        "plt.show()"
      ],
      "execution_count": null,
      "outputs": []
    }
  ]
}